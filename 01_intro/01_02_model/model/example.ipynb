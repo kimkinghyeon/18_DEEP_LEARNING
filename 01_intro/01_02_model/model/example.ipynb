{
 "cells": [
  {
   "cell_type": "code",
   "execution_count": 34,
   "metadata": {},
   "outputs": [
    {
     "name": "stdout",
     "output_type": "stream",
     "text": [
      "1/1 [==============================] - 1s 787ms/step\n",
      "Class: yadon\n",
      "Confidence Score: 0.99984944\n"
     ]
    }
   ],
   "source": [
    "from keras.models import load_model  # TensorFlow is required for Keras to work\n",
    "from PIL import Image, ImageOps  # Install pillow instead of PIL\n",
    "import numpy as np\n",
    "\n",
    "# Disable scientific notation for clarity\n",
    "np.set_printoptions(suppress=True)\n",
    "\n",
    "# Load the model\n",
    "model = load_model(\"keras_Model.h5\", compile=False)\n",
    "\n",
    "# Load the labels\n",
    "class_names = open(\"labels.txt\", \"r\").readlines()\n",
    "\n",
    "# Create the array of the right shape to feed into the keras model\n",
    "# The 'length' or number of images you can put into the array is\n",
    "# determined by the first position in the shape tuple, in this case 1\n",
    "data = np.ndarray(shape=(1, 224, 224, 3), dtype=np.float32)\n",
    "\n",
    "# Replace this with the path to your image\n",
    "image = Image.open(\"image/1.jpg\").convert(\"RGB\")\n",
    "\n",
    "# resizing the image to be at least 224x224 and then cropping from the center\n",
    "size = (224, 224)\n",
    "image = ImageOps.fit(image, size, Image.Resampling.LANCZOS)\n",
    "\n",
    "# turn the image into a numpy array\n",
    "image_array = np.asarray(image)\n",
    "\n",
    "# Normalize the image\n",
    "normalized_image_array = (image_array.astype(np.float32) / 127.5) - 1\n",
    "\n",
    "# Load the image into the array\n",
    "data[0] = normalized_image_array\n",
    "\n",
    "# Predicts the model\n",
    "prediction = model.predict(data)\n",
    "index = np.argmax(prediction)\n",
    "class_name = class_names[index]\n",
    "confidence_score = prediction[0][index]\n",
    "\n",
    "# Print prediction and confidence score\n",
    "print(\"Class:\", class_name[2:], end=\"\")\n",
    "print(\"Confidence Score:\", confidence_score)\n"
   ]
  },
  {
   "cell_type": "code",
   "execution_count": 1,
   "metadata": {},
   "outputs": [
    {
     "name": "stdout",
     "output_type": "stream",
     "text": [
      "2.12.0\n",
      "2.12.1\n"
     ]
    }
   ],
   "source": [
    "import tensorflow\n",
    "import keras\n",
    "\n",
    "print(keras.__version__)\n",
    "print(tensorflow.__version__)"
   ]
  },
  {
   "cell_type": "code",
   "execution_count": 39,
   "metadata": {},
   "outputs": [
    {
     "name": "stdout",
     "output_type": "stream",
     "text": [
      "WARNING:tensorflow:No training configuration found in the save file, so the model was *not* compiled. Compile it manually.\n",
      "['0 bombay\\n', '1 bengal\\n', '2 yadon\\n']\n",
      "1/1 [==============================] - 1s 764ms/step\n",
      "[[0.00002909 0.00012147 0.99984944]]\n",
      "class  ['2 yadon\\n']\n",
      "confidence Score : 0.9998494386672974\n"
     ]
    }
   ],
   "source": [
    "from tensorflow import keras  # 모델을 사용하기 위해\n",
    "from PIL import Image, ImageOps  # 이미지 처리 관련 (열고, 조작하고 저장)\n",
    "import numpy as np  # 케라스 모델에서 컬러 이미지를 배열로 처리하기 위해\n",
    "\n",
    "# 모델을 불러오기\n",
    "model = keras.models.load_model('keras_model.h5')\n",
    "class_name = open('labels.txt', 'r').readlines()\n",
    "print(class_name)\n",
    "\n",
    "# 케라스 모델에서 입력을 받을 수 있는 형식\n",
    "# 컬러 이미지 로드시 보통 (높이, 넓이, rgb 채널) 형태\n",
    "# (배치크기 , 높이 , 넓이 , 채널수)\n",
    "data = np.ndarray(shape=(1, 224, 224, 3), dtype=np.float32)  # 딥러닝 모델 입력 데이터\n",
    "# 이미지 경로 지정\n",
    "image = Image.open('image/1.jpg').convert('RGB')  # 오타 수정: Image.opem -> Image.open\n",
    "# 로드할 이미지 지정\n",
    "size = (224, 224)  # 이미지 크기 수정: (224, 224)\n",
    "image = ImageOps.fit(image, size, Image.Resampling.LANCZOS)\n",
    "# 이미지를 numpy 배열로 반환\n",
    "image_array = np.asarray(image)\n",
    "# 모델에 맞춰 정규화\n",
    "normalized_image_array = (image_array.astype(np.float32) / 127.5) - 1\n",
    "# 이미지를 배열에 로드\n",
    "data[0] = normalized_image_array\n",
    "\n",
    "# 추론\n",
    "result = model.predict(data)\n",
    "\n",
    "print(result)\n",
    "\n",
    "index = np.argmax(result)\n",
    "# result_con = result()\n",
    "confidence_score = result[0][index]\n",
    "\n",
    "print(f\"class  {class_name[2:]}\")\n",
    "print(f'confidence Score : {confidence_score}')\n"
   ]
  },
  {
   "cell_type": "code",
   "execution_count": 38,
   "metadata": {},
   "outputs": [
    {
     "name": "stdout",
     "output_type": "stream",
     "text": [
      "WARNING:tensorflow:No training configuration found in the save file, so the model was *not* compiled. Compile it manually.\n",
      "['0 bombay\\n', '1 bengal\\n', '2 yadon\\n']\n",
      "1/1 [==============================] - 1s 766ms/step\n",
      "Predicted Class: 2 yadon\n",
      "Confidence Score: 0.9998494386672974\n"
     ]
    }
   ],
   "source": [
    "from tensorflow import keras  # 모델을 사용하기 위해\n",
    "from PIL import Image, ImageOps  # 이미지 처리 관련 (열고, 조작하고 저장)\n",
    "import numpy as np  # 케라스 모델에서 컬러 이미지를 배열로 처리하기 위해\n",
    "\n",
    "# 모델을 불러오기\n",
    "model = keras.models.load_model('keras_model.h5')\n",
    "class_name = open('labels.txt', 'r').readlines()\n",
    "print(class_name)\n",
    "\n",
    "# 케라스 모델에서 입력을 받을 수 있는 형식\n",
    "data = np.ndarray(shape=(1, 224, 224, 3), dtype=np.float32)  # 딥러닝 모델 입력 데이터\n",
    "\n",
    "# 이미지 경로 지정\n",
    "image = Image.open('image/1.jpg').convert('RGB')\n",
    "\n",
    "# 이미지 크기 설정\n",
    "size = (224, 224)  # 이미지 크기\n",
    "image = ImageOps.fit(image, size, Image.Resampling.LANCZOS)\n",
    "\n",
    "# 이미지를 numpy 배열로 변환\n",
    "image_array = np.asarray(image)\n",
    "\n",
    "# 모델에 맞춰 정규화\n",
    "normalized_image_array = (image_array.astype(np.float32) / 127.5) - 1\n",
    "\n",
    "# 이미지를 배열에 로드\n",
    "data[0] = normalized_image_array\n",
    "\n",
    "# 추론\n",
    "result = model.predict(data)\n",
    "\n",
    "# 가장 높은 확률을 가진 클래스 인덱스\n",
    "index = np.argmax(result)\n",
    "confidence_score = result[0][index]\n",
    "\n",
    "# 예측된 클래스 이름 출력\n",
    "predicted_class = class_name[index].strip()\n",
    "\n",
    "# 결과 출력\n",
    "print(f\"Predicted Class: {predicted_class}\")\n",
    "print(f'Confidence Score: {confidence_score}')\n",
    "\n"
   ]
  }
 ],
 "metadata": {
  "kernelspec": {
   "display_name": "tf",
   "language": "python",
   "name": "python3"
  },
  "language_info": {
   "codemirror_mode": {
    "name": "ipython",
    "version": 3
   },
   "file_extension": ".py",
   "mimetype": "text/x-python",
   "name": "python",
   "nbconvert_exporter": "python",
   "pygments_lexer": "ipython3",
   "version": "3.11.10"
  }
 },
 "nbformat": 4,
 "nbformat_minor": 2
}
