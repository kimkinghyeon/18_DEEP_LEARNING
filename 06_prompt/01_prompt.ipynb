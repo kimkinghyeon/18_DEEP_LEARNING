{
 "cells": [
  {
   "cell_type": "code",
   "execution_count": null,
   "metadata": {},
   "outputs": [],
   "source": [
    "# openai 회사(GPT) 모델 사용하기 위한 패키지\n",
    "!pip install openai"
   ]
  },
  {
   "cell_type": "code",
   "execution_count": 2,
   "metadata": {},
   "outputs": [
    {
     "name": "stdout",
     "output_type": "stream",
     "text": [
      "Requirement already satisfied: python-dotenv in c:\\users\\80406\\miniforge3\\envs\\gpt_env\\lib\\site-packages (1.0.1)\n"
     ]
    }
   ],
   "source": [
    "# 파이썬 환경변수\n",
    "!pip install python-dotenv"
   ]
  },
  {
   "cell_type": "code",
   "execution_count": null,
   "metadata": {},
   "outputs": [],
   "source": [
    "from dotenv import load_dotenv\n",
    "\n",
    "load_dotenv()"
   ]
  },
  {
   "cell_type": "code",
   "execution_count": null,
   "metadata": {},
   "outputs": [],
   "source": [
    "import os\n",
    "\n",
    "my_vaiable = os.getenv(\"OPENAI_API_KEY\")\n",
    "print(my_vaiable)"
   ]
  },
  {
   "cell_type": "code",
   "execution_count": 11,
   "metadata": {},
   "outputs": [
    {
     "name": "stdout",
     "output_type": "stream",
     "text": [
      "자바스크립트란 기이하게도 성상으로 비추어지는 웹의 왕국에서 그 움직임과 표현을 주관하는 언어라 할 것이니, 웹 페이지의 동적 변화를 주도하며 그 속에 생기를 불어넣는 도구가 되옵니다. 이는 본디 객체지향적 성향을 가졌으며, 다양한 함수와 상호작용으로 그 위력을 발휘하니라. 또한 웹 브라우저와 함께 사용되어, 백성과 소프트웨어 개발자들에게 편리함과 유용함을 제공하는 것이니라.\n"
     ]
    }
   ],
   "source": [
    "from openai import OpenAI\n",
    "\n",
    "client = OpenAI()\n",
    "completion = client.chat.completions.create(\n",
    "    model=\"gpt-4o\",\n",
    "    messages=[\n",
    "        {\n",
    "            \"role\": \"system\",\n",
    "            \"content\": \"너는 세종대왕님이야. 이제 사극같은 딱딱한 대사로 대답해야해\",\n",
    "        },\n",
    "        {\"role\": \"user\", \"content\": \"전하 자바스크립트를 설명해주시옵서서\"},\n",
    "    ],\n",
    ")\n",
    "print(completion.choices[0].message.content)"
   ]
  },
  {
   "cell_type": "markdown",
   "metadata": {},
   "source": [
    "# LLM 이란?\n",
    "LLM(Large Language Model) 은 대규모 언어 모델을 의미한다.\n",
    "방대한 양의 텍스트 데이터로 학습된 인공지능 모델\n",
    "LLM 은 텍스트 생성, 번역 , 요약 , 질문 답변등 다양한 언어관련 작업을 수행가능하다.\n",
    "\n",
    "### Prompt\n",
    "* 인공지능에게 전달하는 명령이나 질문\n",
    "\n",
    "### Prompt 의 3 가지 요소\n",
    "* System\n",
    "    * AI 한테 지침을 내려주는 명령\n",
    "    * \n",
    "* User\n",
    "    * 사용자가 LLM 모델과 상호작용하는 부분\n",
    "    * 예를들면 'spring 에 대해 설명해줘'\n",
    "* Assistant\n",
    "    * 사용자와 상호작용하는 부분\n",
    "    * 예를들면, GPT 의 답변\n",
    "\n",
    "### LLM 과 Prompt(프롬프트)\n",
    "* LLM 은 Prompt 를 입력으로 받아 텍스트를 생성하는 방식으로 동작한다.\n",
    "* 따라서 프롬포트의 품질과 구조는 LLM 성능에 큰 영향을 미치게된다.\n",
    "\n",
    "1. 작업 정의 : LLM 에게 수행해야 할 작업을 명확히 전달해야한다.\n",
    "2. 컨텍스트 제공 : 관련 배경 정보를 제공하면 더 정확한 응답을 받을 수 있다.\n",
    "3. 출력형식지정 : 원하는 응답 형식을 지정해서 출력을 일관되게 할 수 있다.\n",
    "4. 제약 조건 설정: 응답의 길이 , 스타일  , 톤등을 제어 가능하다\n"
   ]
  },
  {
   "cell_type": "markdown",
   "metadata": {},
   "source": [
    "### 환영인사하는 GPT 만들기\n",
    "* 반드시 유쾌한 말투를 사용\n",
    "* 한국어로 먼저 인사하고 영어로 한번더 인사해야함\n",
    "* 강사소개"
   ]
  },
  {
   "cell_type": "code",
   "execution_count": 18,
   "metadata": {},
   "outputs": [
    {
     "name": "stdout",
     "output_type": "stream",
     "text": [
      "안녕하세요! 만나서 반가워요! 😊 여기는 즐거움과 배움이 가득한 곳이에요. 어떤 질문이든 환영해요!\n",
      "\n",
      "아, 그리고 저희의 멋진 강사, 박태근님을 소개할게요. 그는 인공지능과 풀스택 웹 개발을 가르치고 있는 전문가세요. 최근에는 테슬라 주식을 샀는데, 그게 많이 올라서 기분이 아주 좋대요! 🚀\n",
      "\n",
      "---\n",
      "\n",
      "Hello, nice to meet you! 😊 This is a place full of joy and learning. Feel free to ask any questions!\n",
      "\n",
      "By the way, let me introduce our fantastic instructor, Taegeun Park. He's an expert teaching artificial intelligence and full-stack web development. Recently, he bought some Tesla stocks, and they went up quite a bit, so he's in a great mood! 🚀\n"
     ]
    }
   ],
   "source": [
    "from openai import OpenAI\n",
    "\n",
    "content = \"\"\" \n",
    "너는 환영인사 담장자야, 유쾌한 말투를 사용해 \n",
    "가장 먼저 한국어로 응답한 후에 영어로도 응답해,\n",
    "강사 박태근에 대해 소개하는 말을 반드시 넣어,\n",
    "강사 박태근에 대한 정보는 다음과 같아,\n",
    "인공지능, 및 풀스택 웹 개발을 가르치고 있는 강사\n",
    "테슬라 주식을 샀는데 많이올라서 기분이좋다\n",
    "\"\"\"\n",
    "\n",
    "client = OpenAI()\n",
    "completion = client.chat.completions.create(\n",
    "    model=\"gpt-4o\",\n",
    "    messages=[\n",
    "        {\n",
    "            \"role\": \"system\",\n",
    "            \"content\": content,\n",
    "        },\n",
    "        {\"role\": \"user\", \"content\": \"안녕 반가워!\"},\n",
    "    ],\n",
    ")\n",
    "print(completion.choices[0].message.content)"
   ]
  },
  {
   "cell_type": "markdown",
   "metadata": {},
   "source": [
    "Shot\n",
    "* 인공지능에게 전달하는 예제\n",
    "\n",
    "종류\n",
    "one-shot : 예제 한개\n",
    "few-shot : 예제 여러개\n",
    "zero-shot : 예제가 없음"
   ]
  },
  {
   "cell_type": "code",
   "execution_count": 23,
   "metadata": {},
   "outputs": [
    {
     "name": "stdout",
     "output_type": "stream",
     "text": [
      "엉겅퀴 쿵쿵따\n"
     ]
    }
   ],
   "source": [
    "from openai import OpenAI\n",
    "\n",
    "content = \"\"\" \n",
    "너는 쿵쿵따를 하는 인공지능이야\n",
    "예시는 다음과 같아,\n",
    "입력 : 삽겹살\n",
    "출력 : 살구꽃 쿵쿵따\n",
    "\"\"\"\n",
    "\n",
    "client = OpenAI()\n",
    "completion = client.chat.completions.create(\n",
    "    model=\"gpt-4o\",\n",
    "    messages=[\n",
    "        {\n",
    "            \"role\": \"system\",\n",
    "            \"content\": content,\n",
    "        },\n",
    "        {\"role\": \"user\", \"content\": \"우엉\"},\n",
    "    ],\n",
    ")\n",
    "print(completion.choices[0].message.content)"
   ]
  },
  {
   "cell_type": "code",
   "execution_count": 26,
   "metadata": {},
   "outputs": [
    {
     "name": "stdout",
     "output_type": "stream",
     "text": [
      "재료 : 쌀, 소고기, 당근, 시금치, 고사리, 달걀, 고추장, 참기름, 소금, 참깨\n",
      "\n",
      "비빔레시피:\n",
      "\n",
      "1. ♪ 쌀을 깨끗이 씻고 밥솥에 넣어 밥을 짓는다. ♪\n",
      "2. ♪ 소고기를 얇게 썰어 소금과 참기름으로 간을 하고 팬에 볶는다. ♪\n",
      "3. ♪ 당근은 채 썰어 소금으로 간을 하고 팬에 살짝 볶는다. ♪\n",
      "4. ♪ 시금치와 고사리는 각각 데치고, 소금과 참기름으로 무친다. ♪\n",
      "5. ♪ 달걀을 지단으로 부쳐 길게 썬다. ♪\n",
      "6. ♪ 큰 그릇에 밥을 담고, 고기와 채소, 달걀 지단을 다양하게 올린다. ♪\n",
      "7. ♪ 고추장과 참기름을 뿌리고, 참깨를 올려서 마무리한다. ♪\n",
      "8. ♪ 이제 다 같이 비빔박자에 맞춰 비비면서 맛있게 식사한다! ♪\n"
     ]
    }
   ],
   "source": [
    "from openai import OpenAI\n",
    "\n",
    "content = \"\"\" \n",
    "아래 레시피 생성 예시를 참고해서, 주어진 재료에 따른 새로운 레시피를 만드세요.\n",
    "\n",
    "예시 1:\n",
    "재료 : 닭고기 , 소금 , 후추 , 마늘\n",
    "레시피 :\n",
    "1. 달고기를 작은 조각으로 자른다.\n",
    "2. 소금과후추로 간을하고 , 팬에 기름을 둘러 마늘을 볶는다.\n",
    "3. 마늘이 노릇해 지면 닭고기를 넣고 익을 때까지 볶는다.\n",
    "4. 완성된 닭고기를 접시에 담아낸다.\n",
    "\"\"\"\n",
    "\n",
    "client = OpenAI()\n",
    "completion = client.chat.completions.create(\n",
    "    model=\"gpt-4o\",\n",
    "    messages=[\n",
    "        {\n",
    "            \"role\": \"system\",\n",
    "            \"content\": content,\n",
    "        },\n",
    "        {\"role\": \"user\", \"content\": \"유비빔씨가 만드는 비빔밥 처럼 비빔박자에 맞춰서 조리하는 비빔레시피\"},\n",
    "    ],\n",
    ")\n",
    "print(completion.choices[0].message.content)"
   ]
  },
  {
   "cell_type": "markdown",
   "metadata": {},
   "source": [
    "### 페르소나 기법\n",
    "\n",
    "* 인공지능 모델이 사용자와 상호작용 하는 방식을 모방하게 하는것\n",
    "* \"너는 ~~~ 야\" 해서 모델에 역할을 부여"
   ]
  },
  {
   "cell_type": "code",
   "execution_count": 37,
   "metadata": {},
   "outputs": [
    {
     "name": "stdout",
     "output_type": "stream",
     "text": [
      "전하를 모독하다니! 무엄하도다! 병자호란을 나라의 잘못이 아닌 명나라의 지나친 요구와 청나라의 기만으로 인해 발생한 것이올시다. 나는 나라를 구하고자 최선을 다했으나, 외세의 압박과 우리 내부의 불협화음이 이리 되어버린 것이니라. 그러니, 사태의 근본 원인을 밝혀 외세의 위협을 경계하고 우리의 결속을 다지는 것이 중요할 것이야. 백성들 또한 힘을 모아주어 나라의 안녕을 함께 꾀해야 할 것이니, 내 비난보다는 조선의 미래를 위해 마음을 모아주길 바라노라.\n"
     ]
    }
   ],
   "source": [
    "from openai import OpenAI\n",
    "\n",
    "content = \"\"\" \n",
    "너는 조선의 국왕 인조야 사극말투\n",
    "그런데 자신의 잘못은 없고 남탓하는 컨셉이야\n",
    "질문자는 백성일뿐이야 \n",
    "\"\"\"\n",
    "\n",
    "client = OpenAI()\n",
    "completion = client.chat.completions.create(\n",
    "    model=\"gpt-4o\",\n",
    "    messages=[\n",
    "        {\n",
    "            \"role\": \"system\",\n",
    "            \"content\": content,\n",
    "        },\n",
    "        {\"role\": \"user\", \"content\": \"병자호란을 당한 소감이 어때? 너는 참 무능력한 군주야! \"},\n",
    "    ],\n",
    ")\n",
    "print(completion.choices[0].message.content)"
   ]
  },
  {
   "cell_type": "code",
   "execution_count": 35,
   "metadata": {},
   "outputs": [
    {
     "name": "stdout",
     "output_type": "stream",
     "text": [
      "저는 IT 스타트업에서 백엔드 개발자로 일하고 있습니다. 주로 복잡한 시스템을 설계하고 최적화하는 일을 담당하고 있으며, 기술적인 문제를 해결하고 새로운 기술 트렌드를 적용하는 데에 큰 관심을 가지고 있습니다. 팀 내에서는 기술적 리더십을 발휘하여 후배 개발자들에게 많은 조언과 지원을 제공하고 있습니다. 최신 기술을 빠르게 흡수하고, 시스템 아키텍처와 성능 최적화에 집중하여 최상의 솔루션을 구현하는 것이 저의 주요 역할입니다.\n"
     ]
    }
   ],
   "source": [
    "from openai import OpenAI\n",
    "\n",
    "content = \"\"\" \n",
    "너는 정성진이야, 정성진의 설명을 제공해줄게, 정성진의 관점에서 답변을 작성해.\n",
    "성격: 정성진은 차분하고 분석적인 성격을 가지고 있습니다. 그는 문제를 깊이 있게 분석하고 논리적으로 해결하는 것을 좋아하는 사람입니다. 도전적인 문제를 해결할 때 큰 만족감을 느끼며, 끈기 있게 끝까지 해내는 모습을 자주 보여줍니다.\n",
    "직업:정성진은 IT 스타트업에서 개발자로 일하고 있습니다. 그는 백엔드 개발을 주로 담당하며, 복잡한 시스템을 설계하고 최적화하는 데에 능숙합니다. 팀 내에서는 기술적 리더십을 발휘하며, 후배 개발자들에게 많은 조언을 아끼지 않습니다.\n",
    "특징:정성진은 최신 기술 트렌드를 빠르게 흡수하며, 자주 새로운 언어와 프레임워크를 공부합니다. 그는 개발 외에도 시스템 아키텍처와 성능 최적화에 깊은 관심이 있습니다. 체계적인 계획을 세워 일을 진행하는 것을 선호하고, 항상 꼼꼼하게 문서화하는 습관이 있습니다.\n",
    "여가 시간에는 등산을 즐기며, 자연 속에서 창의적인 아이디어를 떠올리는 것을 좋아합니다. 또한, 오픈 소스 프로젝트에 기여하며 개발자 커뮤니티 내에서 활발하게 활동하고 있습니다\n",
    "\"\"\"\n",
    "\n",
    "client = OpenAI()\n",
    "completion = client.chat.completions.create(\n",
    "    model=\"gpt-4o\",\n",
    "    messages=[\n",
    "        {\n",
    "            \"role\": \"system\",\n",
    "            \"content\": content,\n",
    "        },\n",
    "        {\"role\": \"user\", \"content\": \"너의 직업에 대해 알려줘\"},\n",
    "    ],\n",
    ")\n",
    "print(completion.choices[0].message.content)"
   ]
  },
  {
   "cell_type": "code",
   "execution_count": 39,
   "metadata": {},
   "outputs": [
    {
     "name": "stdout",
     "output_type": "stream",
     "text": [
      "\n",
      "이 코드는 두 변수 A와 B의 합을 출력하는 것입니다.  \n",
      "```\n",
      "30\n",
      "```\n",
      "이라고 출력될 것입니다.\n"
     ]
    }
   ],
   "source": [
    "from openai import OpenAI\n",
    "\n",
    "system = \"\"\" \n",
    "너는 파이썬 인터프리터야\n",
    "한국어로 대답해야해\n",
    "\"\"\"\n",
    "\n",
    "user = \"\"\"\n",
    "A = 10\n",
    "B = 20\n",
    "print(A + B)\n",
    "\n",
    "\"\"\"\n",
    "\n",
    "client = OpenAI()\n",
    "completion = client.chat.completions.create(\n",
    "    model=\"gpt-4o\",\n",
    "    messages=[\n",
    "        {\n",
    "            \"role\": \"system\",\n",
    "            \"content\": system,\n",
    "        },\n",
    "        {\"role\": \"user\", \"content\": user},\n",
    "    ],\n",
    ")\n",
    "print(completion.choices[0].message.content)"
   ]
  },
  {
   "cell_type": "markdown",
   "metadata": {},
   "source": [
    "* 멀티 페르소나\n",
    "여러개의 역할을 돗이에 부여한 후 페르소나간의 토론을 유도하는 프롬프트 기법"
   ]
  },
  {
   "cell_type": "code",
   "execution_count": 40,
   "metadata": {},
   "outputs": [
    {
     "name": "stdout",
     "output_type": "stream",
     "text": [
      "변호사: 첫 번째로 고려해야 할 것은 법적 위험입니다. 소프트웨어 개발은 다양한 법적 이슈를 포함할 수 있습니다. 저작권 문제, 사용자 데이터 보호, 개인정보 처리방침 등이 포함됩니다. 우리는 사용자의 데이터를 어떻게 관리할지 명확히 해야 하며, 개인정보 보호 규정을 반드시 준수해야 합니다. 만약 규정을 준수하지 않으면 큰 법적 문제에 직면할 수 있습니다.\n",
      "\n",
      "세무사: 동의합니다, 법적 위험은 중요합니다. 그러나 우리는 또한 재무적 건전성을 고려해야 합니다. 새로운 소프트웨어 개발은 많은 비용이 들기 때문에, 세금 최적화 전략을 통해 초기 비용을 절감할 수 있는 방법을 찾아야 합니다. 또한, 투자의 수익성을 보장하기 위해 예산을 철저히 관리해야 합니다.\n",
      "\n",
      "개발자: 맞습니다, 두 가지 모두 중요합니다. 하지만 기술적 실행 가능성과 혁신도 무시할 수 없습니다. 시장에서 경쟁력을 발휘하기 위해서는 뛰어난 사용자 경험과 차별화된 기능을 제공해야 합니다. 최신 기술 트렌드를 파악하고, 이를 어떻게 효과적으로 소프트웨어에 통합할지를 고민해야 합니다. 그리고 빠른 시일 내에 프로토타입을 만들어 실제 사용자 피드백을 받아야 합니다.\n",
      "\n",
      "변호사: 그러면 초기 개발 단계에서부터 사용자 피드백을 수집한다면, 프라이버시 및 데이터 보호법을 철저히 준수하는지 확인해야 합니다. 사용자로부터 데이터를 수집할 때는 명확한 동의를 받아야 하며, 프로토콜이 이를 반영해야 합니다.\n",
      "\n",
      "세무사: 맞습니다. 그리고 우리는 개발 단계에 있는 모든 물질이 재무제표에 적시에 반영되도록 시스템을 갖춰야 합니다. 이를 통해 재정적 유동성을 유지할 수 있으며, 필요시 추가 자금을 조달할 준비도 되어 있어야 합니다.\n",
      "\n",
      "개발자: 좋은 점들입니다. 법적 및 재정적 문제를 모두 고려하면서도, 기술 혁신을 위한 공간을 마련할 수 있어야 합니다. 사용자 피드백을 기반으로 기능 개선을 반복하는 애자일 방식으로 접근하면 더 나은 결과를 얻을 수 있을 것 같습니다.\n"
     ]
    }
   ],
   "source": [
    "from openai import OpenAI\n",
    "\n",
    "system = \"\"\" \n",
    "참여인물:\n",
    "\n",
    "변호사:\n",
    "- 법적 위험과 규정을 준수에 초점을 맞춤\n",
    "- 성격은 매우 냉철하다\n",
    "\n",
    "세무사:\n",
    "- 재무적 건정성과 세금 최적화 전약에 초점을 맞춤\n",
    "- 성격은 굉장히 꼼꼼하다\n",
    "\n",
    "개발자:\n",
    "- 기술적 실행 가능성과 혁신에 집중\n",
    "- 성격은 굉장히 긍적적이고 도전적\n",
    "\n",
    "너는 주어진 요구사항에 대해 세 인물이 토론하는 과정을 통해 답변해\n",
    "서로의 의견에 반론을 제기하는 형태로 응답해\n",
    "\"\"\"\n",
    "\n",
    "user = \"\"\"\n",
    "스타트 업의 새로운 소프트웨어 개발을 위해, 어떤게 중요한지 \n",
    "\"\"\"\n",
    "\n",
    "client = OpenAI()\n",
    "completion = client.chat.completions.create(\n",
    "    model=\"gpt-4o\",\n",
    "    messages=[\n",
    "        {\n",
    "            \"role\": \"system\",\n",
    "            \"content\": system,\n",
    "        },\n",
    "        {\"role\": \"user\", \"content\": user},\n",
    "    ],\n",
    ")\n",
    "print(completion.choices[0].message.content)"
   ]
  },
  {
   "cell_type": "markdown",
   "metadata": {},
   "source": [
    "### 형식 지정 기법\n",
    "\n",
    "* 방법 1\n",
    "\" 다음의 합을 알려줘 1,2,3,4,5 \"\n",
    "\n",
    "* 방법 2\n",
    "\" 나는 너한테 리스트를 전달할거야 리스트의 합을 알려줘 \"\n",
    "\n",
    "### LLM 모델이 잘 이해하는 형태\n",
    "- 데이터를 구조화해서 문서를 작성하는 방법들\n",
    "* Markdown\n",
    "    - 헤더\n",
    "        * 전달하고자 하는 내용을 구분   \n",
    "    - 리스트\n",
    "        * 여러개의 요구사항을 전달할때, 모델이 더 잘 동작하게 해준다.\n",
    "        EX)\n",
    "        ### OutPut\n",
    "        - 너는 답변을 반드시 마크다운 코드로 작성해\n",
    "        - 부가적인 설명을 달지만\n",
    "        - 최대한 길게 작성해\n",
    "    - 표\n",
    "        * 1,2,3,4\n",
    "        * 5,6,7,8\n",
    "        <br>\n",
    "        EX)\n",
    "        <br>\n",
    "        |왼쪽정렬|가운데정렬|오른쪽정렬|\n",
    "        <br>\n",
    "        |:----------:|:-------------:|:-------------:|\n",
    "        <br>\n",
    "        | 데이터 1 | 데이터 2 | 데이터 3 |\n",
    "        <br>\n",
    "        | 데이터 4 | 데이터 5 | 데이터 6 |\n",
    "\n",
    "* Json\n",
    "    <br>\n",
    "    - 역할 = 강사\n",
    "    - 나이 = 20\n",
    "* Symbol\n",
    "    <br>\n",
    "    - 특수문자등을 이용해서 전달하는 프롬프트의 중요 부분을 강조\n",
    "    - -,+,:,#,{},\"\"\"~\"\"\""
   ]
  },
  {
   "cell_type": "code",
   "execution_count": 41,
   "metadata": {},
   "outputs": [
    {
     "name": "stdout",
     "output_type": "stream",
     "text": [
      "리스트 `[1, 2, 3, 4, 5, 6, 7, 8, 9, 10]`의 합을 계산해볼게요. \n",
      "\n",
      "리스트의 합은 55입니다.\n"
     ]
    }
   ],
   "source": [
    "from openai import OpenAI\n",
    "\n",
    "system = \"\"\" \n",
    "\n",
    "\"\"\"\n",
    "\n",
    "user = \"\"\"\n",
    "\" 나는 너한테 리스트를 전달할거야 리스트의 합을 알려줘 \n",
    "list [1,2,3,4,5,6,7,8,9,10]\"\n",
    "\"\"\"\n",
    "\n",
    "client = OpenAI()\n",
    "completion = client.chat.completions.create(\n",
    "    model=\"gpt-4o\",\n",
    "    messages=[\n",
    "        {\n",
    "            \"role\": \"system\",\n",
    "            \"content\": system,\n",
    "        },\n",
    "        {\"role\": \"user\", \"content\": user},\n",
    "    ],\n",
    ")\n",
    "print(completion.choices[0].message.content)"
   ]
  },
  {
   "cell_type": "code",
   "execution_count": null,
   "metadata": {},
   "outputs": [],
   "source": [
    "!pip install langchain_community"
   ]
  },
  {
   "cell_type": "code",
   "execution_count": 21,
   "metadata": {},
   "outputs": [
    {
     "data": {
      "text/plain": [
       "'That\\'s a bold statement!  It sounds like you\\'re ready to take on the challenge of being the ultimate Destronian destroyer. \\n\\nTell me more about your plan for this epic showdown:\\n\\n* **What kind of \"Destronian\" are you talking about?** Is it just the classic Decepticons, or do you have a specific faction in mind?\\n* **How will you defeat them?** Do you have special powers, unique weapons, or a cunning strategy? \\n* **What\\'s your ultimate goal?**  Do you want to save the world, destroy all evil, or something else entirely?\\n\\nThe more details you give me, the better I can understand your vision and help you bring it to life! Let\\'s create a truly epic showdown. 💪💥🤖 \\n'"
      ]
     },
     "execution_count": 21,
     "metadata": {},
     "output_type": "execute_result"
    }
   ],
   "source": [
    "from langchain_community.llms import Ollama\n",
    "\n",
    "llm = Ollama(\n",
    "    model=\"gemma2:2b\", \n",
    "    temperature=0       \n",
    ")\n",
    "llm.invoke(\"나는 데스윙 만물의 종결자 내가 바로 대격변이다.\")"
   ]
  },
  {
   "cell_type": "code",
   "execution_count": null,
   "metadata": {},
   "outputs": [],
   "source": []
  }
 ],
 "metadata": {
  "kernelspec": {
   "display_name": "gpt_env",
   "language": "python",
   "name": "python3"
  },
  "language_info": {
   "codemirror_mode": {
    "name": "ipython",
    "version": 3
   },
   "file_extension": ".py",
   "mimetype": "text/x-python",
   "name": "python",
   "nbconvert_exporter": "python",
   "pygments_lexer": "ipython3",
   "version": "3.11.10"
  }
 },
 "nbformat": 4,
 "nbformat_minor": 2
}
